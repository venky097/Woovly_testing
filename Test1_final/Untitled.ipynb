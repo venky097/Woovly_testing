{
 "cells": [
  {
   "cell_type": "code",
   "execution_count": 38,
   "metadata": {},
   "outputs": [],
   "source": [
    "from selenium import webdriver\n",
    "from selenium.webdriver.common.keys import Keys\n",
    "import os\n",
    "import unittest\n",
    "import time\n",
    "import HtmlTestRunner\n",
    "from selenium.webdriver.common.desired_capabilities import DesiredCapabilities\n",
    "from selenium.webdriver.support import expected_conditions as EC\n",
    "from selenium.webdriver.common.by import By\n",
    "from selenium.webdriver.support.ui import WebDriverWait as wait\n",
    "\n",
    "# driver = webdriver.Chrome('/home/venky/PycharmProjects/autotest/test1/driver/chromedriver')\n",
    "# driver.implicitly_wait(5)\n",
    "# driver.maximize_window()\n",
    "# driver.get(\"https://www.woovly.com/\")\n",
    "# wait(driver,10).until(EC.element_to_be_clickable((By.XPATH, \"//span[text()='Sign Up/']\"))).click()\n",
    "# wait(driver,10).until(EC.element_to_be_clickable((By.XPATH, \"//span[text()='Already a Member? Login']\"))).click()\n",
    "# driver.find_element_by_id(\"email_Id\").send_keys(\"venkatesh.k@xelpmoc.in\")\n",
    "# wait(driver, 10).until(EC.element_to_be_clickable((By.XPATH, \"//input[@ng-model ='loginPassword']\"))).send_keys(\"78007200a\")\n",
    "# driver.find_element_by_xpath(\"//*[@ id = 'signinFields']/div[3]\").click()\n",
    "# driver.find_element_by_xpath('//*[@id=\"headerCnt\"]/div[3]/div/div[3]/div[2]/input').send_keys('Travel')\n",
    "\n",
    "\n",
    "#     def test_search_woovlyLandingPage(self):\n",
    "        \n",
    "#         time.sleep(5)\n",
    "#         navigationStart = self.driver.execute_script(\"return window.performance.timing.navigationStart\")\n",
    "#         responseStart = self.driver.execute_script(\"return window.performance.timing.responseStart\")\n",
    "#         domComplete = self.driver.execute_script(\"return window.performance.timing.domComplete\")\n",
    "#         backendPerformance = responseStart - navigationStart\n",
    "#         frontendPerformance = domComplete - responseStart\n",
    "#         print(\"Back End : {} \".format(backendPerformance))\n",
    "#         print(\"Front End : {} \".format(frontendPerformance))\n",
    "\n",
    "   \n"
   ]
  },
  {
   "cell_type": "code",
   "execution_count": 40,
   "metadata": {},
   "outputs": [
    {
     "name": "stderr",
     "output_type": "stream",
     "text": [
      "E\n",
      "======================================================================\n",
      "ERROR: /home/venky/ (unittest.loader._FailedTest)\n",
      "----------------------------------------------------------------------\n",
      "AttributeError: module '__main__' has no attribute '/home/venky/'\n",
      "\n",
      "----------------------------------------------------------------------\n",
      "Ran 1 test in 0.005s\n",
      "\n",
      "FAILED (errors=1)\n"
     ]
    },
    {
     "ename": "SystemExit",
     "evalue": "True",
     "output_type": "error",
     "traceback": [
      "An exception has occurred, use %tb to see the full traceback.\n",
      "\u001b[0;31mSystemExit\u001b[0m\u001b[0;31m:\u001b[0m True\n"
     ]
    },
    {
     "name": "stderr",
     "output_type": "stream",
     "text": [
      "/usr/local/lib/python3.6/dist-packages/IPython/core/interactiveshell.py:3334: UserWarning: To exit: use 'exit', 'quit', or Ctrl-D.\n",
      "  warn(\"To exit: use 'exit', 'quit', or Ctrl-D.\", stacklevel=1)\n"
     ]
    }
   ],
   "source": [
    "class WoovlyTest(unittest.TestCase):\n",
    "    \n",
    "    @classmethod \n",
    "    def setUpClass(cls):\n",
    "        cls.driver = webdriver.Chrome('../Test1/Driver /chromedriver')\n",
    "        cls.driver.implicitly_wait(10)\n",
    "        cls.driver.maximize_window()\n",
    "    \n",
    "    def test_search_woovlyLandingPage(self):\n",
    "        self.driver.get(\"https://www.woovly.com/\")\n",
    "\n",
    "\n",
    "if __name__ == '__main__':\n",
    "    unittest.main()\n",
    "        "
   ]
  },
  {
   "cell_type": "code",
   "execution_count": null,
   "metadata": {},
   "outputs": [],
   "source": []
  },
  {
   "cell_type": "code",
   "execution_count": null,
   "metadata": {},
   "outputs": [],
   "source": []
  },
  {
   "cell_type": "code",
   "execution_count": null,
   "metadata": {},
   "outputs": [],
   "source": []
  },
  {
   "cell_type": "code",
   "execution_count": null,
   "metadata": {},
   "outputs": [],
   "source": []
  },
  {
   "cell_type": "code",
   "execution_count": null,
   "metadata": {},
   "outputs": [],
   "source": []
  }
 ],
 "metadata": {
  "kernelspec": {
   "display_name": ".venv",
   "language": "python",
   "name": ".venv"
  },
  "language_info": {
   "codemirror_mode": {
    "name": "ipython",
    "version": 3
   },
   "file_extension": ".py",
   "mimetype": "text/x-python",
   "name": "python",
   "nbconvert_exporter": "python",
   "pygments_lexer": "ipython3",
   "version": "3.6.9"
  }
 },
 "nbformat": 4,
 "nbformat_minor": 2
}
